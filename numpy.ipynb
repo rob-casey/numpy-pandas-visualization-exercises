{
 "cells": [
  {
   "cell_type": "code",
   "execution_count": 243,
   "id": "e5e85130",
   "metadata": {},
   "outputs": [],
   "source": [
    "# Reference for exercises\n",
    "import numpy as np\n",
    "a = np.array([4, 10, 12, 23, -2, -1, 0, 0, 0, -6, 3, -7])"
   ]
  },
  {
   "cell_type": "code",
   "execution_count": 244,
   "id": "826fd6c0",
   "metadata": {},
   "outputs": [
    {
     "data": {
      "text/plain": [
       "array([False, False, False, False,  True,  True, False, False, False,\n",
       "        True, False,  True])"
      ]
     },
     "execution_count": 244,
     "metadata": {},
     "output_type": "execute_result"
    }
   ],
   "source": [
    "# How many negative numbers are there?\n",
    "\n",
    "mask = a < 0\n",
    "mask"
   ]
  },
  {
   "cell_type": "code",
   "execution_count": null,
   "id": "7079bd92",
   "metadata": {},
   "outputs": [],
   "source": []
  },
  {
   "cell_type": "code",
   "execution_count": 247,
   "id": "4c3fe846",
   "metadata": {},
   "outputs": [
    {
     "data": {
      "text/plain": [
       "array([-2, -1, -6, -7])"
      ]
     },
     "execution_count": 247,
     "metadata": {},
     "output_type": "execute_result"
    }
   ],
   "source": [
    "# there are four negative numbers\n",
    "a[mask]"
   ]
  },
  {
   "cell_type": "code",
   "execution_count": 248,
   "id": "ff134ae9",
   "metadata": {},
   "outputs": [
    {
     "data": {
      "text/plain": [
       "4"
      ]
     },
     "execution_count": 248,
     "metadata": {},
     "output_type": "execute_result"
    }
   ],
   "source": [
    "len(a[mask])"
   ]
  },
  {
   "cell_type": "code",
   "execution_count": 250,
   "id": "bc292ac1",
   "metadata": {},
   "outputs": [
    {
     "data": {
      "text/plain": [
       "array([ True,  True,  True,  True, False, False, False, False, False,\n",
       "       False,  True, False])"
      ]
     },
     "execution_count": 250,
     "metadata": {},
     "output_type": "execute_result"
    }
   ],
   "source": [
    "# How many positive numbers are there?\n",
    "mask = a > 0\n",
    "mask"
   ]
  },
  {
   "cell_type": "code",
   "execution_count": 251,
   "id": "67980b87",
   "metadata": {},
   "outputs": [
    {
     "data": {
      "text/plain": [
       "array([ 4, 10, 12, 23,  3])"
      ]
     },
     "execution_count": 251,
     "metadata": {},
     "output_type": "execute_result"
    }
   ],
   "source": [
    "# there are 5 positive numbers\n",
    "a[mask]"
   ]
  },
  {
   "cell_type": "code",
   "execution_count": 252,
   "id": "3fd7a8a0",
   "metadata": {},
   "outputs": [
    {
     "data": {
      "text/plain": [
       "5"
      ]
     },
     "execution_count": 252,
     "metadata": {},
     "output_type": "execute_result"
    }
   ],
   "source": [
    "len(a[mask])"
   ]
  },
  {
   "cell_type": "code",
   "execution_count": 253,
   "id": "97025bf0",
   "metadata": {},
   "outputs": [
    {
     "data": {
      "text/plain": [
       "array([ True,  True,  True, False, False, False, False, False, False,\n",
       "       False, False, False])"
      ]
     },
     "execution_count": 253,
     "metadata": {},
     "output_type": "execute_result"
    }
   ],
   "source": [
    "# How many even positive numbers are there?\n",
    "\n",
    "mask = (a % 2 == 0) & (a > 0)\n",
    "mask"
   ]
  },
  {
   "cell_type": "code",
   "execution_count": 254,
   "id": "dfbed4ef",
   "metadata": {},
   "outputs": [
    {
     "data": {
      "text/plain": [
       "array([ 4, 10, 12])"
      ]
     },
     "execution_count": 254,
     "metadata": {},
     "output_type": "execute_result"
    }
   ],
   "source": [
    "# there are three even, positive numbers\n",
    "a[mask]"
   ]
  },
  {
   "cell_type": "code",
   "execution_count": 255,
   "id": "454fa065",
   "metadata": {},
   "outputs": [
    {
     "data": {
      "text/plain": [
       "3"
      ]
     },
     "execution_count": 255,
     "metadata": {},
     "output_type": "execute_result"
    }
   ],
   "source": [
    "len(a[mask])"
   ]
  },
  {
   "cell_type": "code",
   "execution_count": null,
   "id": "6b06315a",
   "metadata": {},
   "outputs": [],
   "source": [
    "# If you were to add 3 to each data point, how many positive numbers would there be?\n",
    "\n",
    "new_list = []\n",
    "\n",
    "for x in a:\n",
    "    new_list.append(x + 3)\n",
    "new_list\n",
    "\n",
    "# Review\n",
    "# b = a + 3\n",
    "# b [ b > 0 ]"
   ]
  },
  {
   "cell_type": "code",
   "execution_count": null,
   "id": "b199baf3",
   "metadata": {},
   "outputs": [],
   "source": [
    "new_array = np.array(new_list)"
   ]
  },
  {
   "cell_type": "code",
   "execution_count": null,
   "id": "79b60f27",
   "metadata": {},
   "outputs": [],
   "source": [
    "mask = (new_array > 0)\n",
    "mask"
   ]
  },
  {
   "cell_type": "code",
   "execution_count": null,
   "id": "6f5499b6",
   "metadata": {},
   "outputs": [],
   "source": [
    "# there would be 10 positive numbers\n",
    "\n",
    "len(new_array[mask])"
   ]
  },
  {
   "cell_type": "code",
   "execution_count": 261,
   "id": "85dca8eb",
   "metadata": {},
   "outputs": [],
   "source": [
    "# If you squared each number, what would the new mean and standard deviation be?\n",
    "## Review\n",
    "## (a ** 2).mean()\n",
    "## (a ** 2).std\n",
    "array = np.array(a)"
   ]
  },
  {
   "cell_type": "code",
   "execution_count": 262,
   "id": "557c3c04",
   "metadata": {},
   "outputs": [
    {
     "data": {
      "text/plain": [
       "74.0"
      ]
     },
     "execution_count": 262,
     "metadata": {},
     "output_type": "execute_result"
    }
   ],
   "source": [
    "(array ** 2).mean()"
   ]
  },
  {
   "cell_type": "code",
   "execution_count": 259,
   "id": "facd42d9",
   "metadata": {},
   "outputs": [
    {
     "data": {
      "text/plain": [
       "74.0"
      ]
     },
     "execution_count": 259,
     "metadata": {},
     "output_type": "execute_result"
    }
   ],
   "source": [
    "(a ** 2).mean()"
   ]
  },
  {
   "cell_type": "code",
   "execution_count": 260,
   "id": "07cf0d89",
   "metadata": {},
   "outputs": [
    {
     "data": {
      "text/plain": [
       "144.0243035046516"
      ]
     },
     "execution_count": 260,
     "metadata": {},
     "output_type": "execute_result"
    }
   ],
   "source": [
    "(a ** 2).std()"
   ]
  },
  {
   "cell_type": "code",
   "execution_count": 264,
   "id": "88f2621b",
   "metadata": {},
   "outputs": [
    {
     "data": {
      "text/plain": [
       "3.0"
      ]
     },
     "execution_count": 264,
     "metadata": {},
     "output_type": "execute_result"
    }
   ],
   "source": [
    "# # A common statistical operation on a dataset is centering. \n",
    "# This means to adjust the data such that the mean of the data is 0. \n",
    "# This is done by subtracting the mean from each data point. \n",
    "# Center the data set.\n",
    "import numpy as np\n",
    "import scipy.stats as stats\n",
    "\n",
    "mean = a.mean()\n",
    "mean"
   ]
  },
  {
   "cell_type": "code",
   "execution_count": 263,
   "id": "d737bd35",
   "metadata": {},
   "outputs": [
    {
     "data": {
      "text/plain": [
       "array([ 4, 10, 12, 23, -2, -1,  0,  0,  0, -6,  3, -7])"
      ]
     },
     "execution_count": 263,
     "metadata": {},
     "output_type": "execute_result"
    }
   ],
   "source": [
    "a"
   ]
  },
  {
   "cell_type": "code",
   "execution_count": 265,
   "id": "70243fab",
   "metadata": {},
   "outputs": [
    {
     "data": {
      "text/plain": [
       "0.0"
      ]
     },
     "execution_count": 265,
     "metadata": {},
     "output_type": "execute_result"
    }
   ],
   "source": [
    "new_list = []\n",
    "\n",
    "for x in a:\n",
    "    new_list.append(x - 3)\n",
    "\n",
    "new_array = np.array(new_list)\n",
    "new_array.mean()"
   ]
  },
  {
   "cell_type": "code",
   "execution_count": null,
   "id": "295d3010",
   "metadata": {},
   "outputs": [],
   "source": [
    "Calculate the z-score for each data point\n",
    "z = (X – μ) / σ\n",
    "X is a single raw data value\n",
    "μ is the population mean\n",
    "σ is the population standard deviation"
   ]
  },
  {
   "cell_type": "code",
   "execution_count": 6,
   "id": "e1ac88cb",
   "metadata": {},
   "outputs": [],
   "source": [
    "mean = a.mean()"
   ]
  },
  {
   "cell_type": "code",
   "execution_count": 7,
   "id": "afa0c643",
   "metadata": {},
   "outputs": [],
   "source": [
    "std = a.std()"
   ]
  },
  {
   "cell_type": "code",
   "execution_count": 9,
   "id": "17ec2dbc",
   "metadata": {},
   "outputs": [
    {
     "data": {
      "text/plain": [
       "array([ 0.12403473,  0.86824314,  1.11631261,  2.48069469, -0.62017367,\n",
       "       -0.49613894, -0.3721042 , -0.3721042 , -0.3721042 , -1.11631261,\n",
       "        0.        , -1.24034735])"
      ]
     },
     "execution_count": 9,
     "metadata": {},
     "output_type": "execute_result"
    }
   ],
   "source": [
    "stats.zscore(a)"
   ]
  },
  {
   "cell_type": "code",
   "execution_count": null,
   "id": "64e8bbb8",
   "metadata": {},
   "outputs": [],
   "source": [
    "# a - mean / std"
   ]
  },
  {
   "cell_type": "code",
   "execution_count": 268,
   "id": "bcc093dc",
   "metadata": {},
   "outputs": [],
   "source": [
    "## Setup 1\n",
    "a = [1, 2, 3, 4, 5, 6, 7, 8, 9, 10]\n",
    "\n",
    "# Use python's built in functionality/operators to determine the following:"
   ]
  },
  {
   "cell_type": "code",
   "execution_count": 23,
   "id": "cfb19a21",
   "metadata": {},
   "outputs": [
    {
     "data": {
      "text/plain": [
       "array([ 1,  2,  3,  4,  5,  6,  7,  8,  9, 10])"
      ]
     },
     "execution_count": 23,
     "metadata": {},
     "output_type": "execute_result"
    }
   ],
   "source": [
    "# Exercise 1 - Make a variable called sum_of_a to hold the sum \n",
    "# of all the numbers in above list\n",
    "import numpy as np\n",
    "array = np.array(a)\n",
    "array"
   ]
  },
  {
   "cell_type": "code",
   "execution_count": 24,
   "id": "ea4f3c92",
   "metadata": {},
   "outputs": [
    {
     "data": {
      "text/plain": [
       "numpy.ndarray"
      ]
     },
     "execution_count": 24,
     "metadata": {},
     "output_type": "execute_result"
    }
   ],
   "source": [
    "type(array)"
   ]
  },
  {
   "cell_type": "code",
   "execution_count": 269,
   "id": "1380a528",
   "metadata": {},
   "outputs": [
    {
     "data": {
      "text/plain": [
       "55"
      ]
     },
     "execution_count": 269,
     "metadata": {},
     "output_type": "execute_result"
    }
   ],
   "source": [
    "sum(a)"
   ]
  },
  {
   "cell_type": "code",
   "execution_count": 27,
   "id": "a4abdc81",
   "metadata": {},
   "outputs": [
    {
     "data": {
      "text/plain": [
       "55"
      ]
     },
     "execution_count": 27,
     "metadata": {},
     "output_type": "execute_result"
    }
   ],
   "source": [
    "sum_of_a = array.sum()\n",
    "sum_of_a"
   ]
  },
  {
   "cell_type": "code",
   "execution_count": 28,
   "id": "b335e8d2",
   "metadata": {},
   "outputs": [
    {
     "data": {
      "text/plain": [
       "1"
      ]
     },
     "execution_count": 28,
     "metadata": {},
     "output_type": "execute_result"
    }
   ],
   "source": [
    "# Exercise 2 - Make a variable named min_of_a to hold the minimum of \n",
    "# all the numbers in the above list\n",
    "\n",
    "min_of_a = array.min()\n",
    "min_of_a"
   ]
  },
  {
   "cell_type": "code",
   "execution_count": 270,
   "id": "944eb51e",
   "metadata": {},
   "outputs": [
    {
     "data": {
      "text/plain": [
       "10"
      ]
     },
     "execution_count": 270,
     "metadata": {},
     "output_type": "execute_result"
    }
   ],
   "source": [
    "max(a)"
   ]
  },
  {
   "cell_type": "code",
   "execution_count": 31,
   "id": "16a0260d",
   "metadata": {},
   "outputs": [
    {
     "data": {
      "text/plain": [
       "10"
      ]
     },
     "execution_count": 31,
     "metadata": {},
     "output_type": "execute_result"
    }
   ],
   "source": [
    "# Exercise 3 - Make a variable named max_of_a to hold the max \n",
    "# number of all the numbers in the above list\n",
    "\n",
    "max_of_a = array.max()\n",
    "max_of_a"
   ]
  },
  {
   "cell_type": "code",
   "execution_count": 32,
   "id": "d024d525",
   "metadata": {},
   "outputs": [
    {
     "data": {
      "text/plain": [
       "5.5"
      ]
     },
     "execution_count": 32,
     "metadata": {},
     "output_type": "execute_result"
    }
   ],
   "source": [
    "# Exercise 4 - Make a variable named mean_of_a to hold the average \n",
    "# of all the numbers in the above list\n",
    "\n",
    "mean_of_a = array.mean()\n",
    "mean_of_a"
   ]
  },
  {
   "cell_type": "code",
   "execution_count": 34,
   "id": "1ce3c484",
   "metadata": {},
   "outputs": [
    {
     "data": {
      "text/plain": [
       "3628800"
      ]
     },
     "execution_count": 34,
     "metadata": {},
     "output_type": "execute_result"
    }
   ],
   "source": [
    "# Exercise 5 - Make a variable named product_of_a to hold the product \n",
    "# of multiplying all the numbers in the above list together\n",
    "\n",
    "product_of_a = array.prod()\n",
    "product_of_a"
   ]
  },
  {
   "cell_type": "code",
   "execution_count": 44,
   "id": "da306d20",
   "metadata": {},
   "outputs": [
    {
     "data": {
      "text/plain": [
       "[1, 4, 9, 16, 25, 36, 49, 64, 81, 100]"
      ]
     },
     "execution_count": 44,
     "metadata": {},
     "output_type": "execute_result"
    }
   ],
   "source": [
    "# Exercise 6 - Make a variable named squares_of_a. \n",
    "# It should hold each number in a squared like [1, 4, 9, 16, 25...]\n",
    "\n",
    "# Long way below\n",
    "# new_list = []\n",
    "\n",
    "# for x in a:\n",
    "#     new_list.append(x ** 2)\n",
    "# new_list\n",
    "\n",
    "# squares_of_a = np.array(new_list)\n",
    "# squares_of_a"
   ]
  },
  {
   "cell_type": "code",
   "execution_count": 48,
   "id": "58c113c2",
   "metadata": {},
   "outputs": [
    {
     "data": {
      "text/plain": [
       "array([  1,   4,   9,  16,  25,  36,  49,  64,  81, 100])"
      ]
     },
     "execution_count": 48,
     "metadata": {},
     "output_type": "execute_result"
    }
   ],
   "source": [
    "squares_of_a = np.square(a)\n",
    "squares_of_a"
   ]
  },
  {
   "cell_type": "code",
   "execution_count": 54,
   "id": "39e4d538",
   "metadata": {},
   "outputs": [],
   "source": [
    "# Exercise 7 - Make a variable named odds_in_a. It should hold only the odd numbers\n",
    "\n",
    "array = np.array(a)"
   ]
  },
  {
   "cell_type": "code",
   "execution_count": 59,
   "id": "817a8502",
   "metadata": {},
   "outputs": [
    {
     "data": {
      "text/plain": [
       "array([ True, False,  True, False,  True, False,  True, False,  True,\n",
       "       False])"
      ]
     },
     "execution_count": 59,
     "metadata": {},
     "output_type": "execute_result"
    }
   ],
   "source": [
    "mask = (array % 2 != 0)\n",
    "mask"
   ]
  },
  {
   "cell_type": "code",
   "execution_count": 62,
   "id": "f9055afc",
   "metadata": {},
   "outputs": [
    {
     "data": {
      "text/plain": [
       "array([1, 3, 5, 7, 9])"
      ]
     },
     "execution_count": 62,
     "metadata": {},
     "output_type": "execute_result"
    }
   ],
   "source": [
    "odds_in_a = array[mask]\n",
    "odds_in_a"
   ]
  },
  {
   "cell_type": "code",
   "execution_count": 63,
   "id": "8033b36a",
   "metadata": {},
   "outputs": [
    {
     "data": {
      "text/plain": [
       "array([ 1,  2,  3,  4,  5,  6,  7,  8,  9, 10])"
      ]
     },
     "execution_count": 63,
     "metadata": {},
     "output_type": "execute_result"
    }
   ],
   "source": [
    "# Exercise 8 - Make a variable named evens_in_a. It should hold only the evens.\n",
    "\n",
    "array = np.array(a)\n",
    "array"
   ]
  },
  {
   "cell_type": "code",
   "execution_count": 64,
   "id": "2efe8385",
   "metadata": {},
   "outputs": [
    {
     "data": {
      "text/plain": [
       "array([False,  True, False,  True, False,  True, False,  True, False,\n",
       "        True])"
      ]
     },
     "execution_count": 64,
     "metadata": {},
     "output_type": "execute_result"
    }
   ],
   "source": [
    "mask = (array % 2 == 0)\n",
    "mask"
   ]
  },
  {
   "cell_type": "code",
   "execution_count": 66,
   "id": "3ca148e5",
   "metadata": {},
   "outputs": [
    {
     "data": {
      "text/plain": [
       "array([ 2,  4,  6,  8, 10])"
      ]
     },
     "execution_count": 66,
     "metadata": {},
     "output_type": "execute_result"
    }
   ],
   "source": [
    "evens_in_a = array[mask]\n",
    "evens_in_a"
   ]
  },
  {
   "cell_type": "code",
   "execution_count": 67,
   "id": "f9d72ec5",
   "metadata": {},
   "outputs": [],
   "source": [
    "## What about life in two dimensions? \n",
    "## A list of lists is matrix, a table, a spreadsheet, a chessboard...\n",
    "\n",
    "## Setup 2: Consider what it would take to find the \n",
    "# sum, \n",
    "# min, \n",
    "# max, \n",
    "# average, \n",
    "# sum, \n",
    "# product, \n",
    "# and list of squares for this list of two lists.\n",
    "\n",
    "b = [\n",
    "    [3, 4, 5],\n",
    "    [6, 7, 8]\n",
    "]"
   ]
  },
  {
   "cell_type": "code",
   "execution_count": 70,
   "id": "d43811a5",
   "metadata": {},
   "outputs": [
    {
     "data": {
      "text/plain": [
       "array([[3, 4, 5],\n",
       "       [6, 7, 8]])"
      ]
     },
     "execution_count": 70,
     "metadata": {},
     "output_type": "execute_result"
    }
   ],
   "source": [
    "b_array = np.array(b)\n",
    "b_array"
   ]
  },
  {
   "cell_type": "code",
   "execution_count": 78,
   "id": "642775de",
   "metadata": {},
   "outputs": [
    {
     "data": {
      "text/plain": [
       "(33, 3, 8)"
      ]
     },
     "execution_count": 78,
     "metadata": {},
     "output_type": "execute_result"
    }
   ],
   "source": [
    "b_array.sum(), b_array.min(), b_array.max()"
   ]
  },
  {
   "cell_type": "code",
   "execution_count": 82,
   "id": "767b9f1e",
   "metadata": {},
   "outputs": [
    {
     "data": {
      "text/plain": [
       "(5.5, 33, 20160)"
      ]
     },
     "execution_count": 82,
     "metadata": {},
     "output_type": "execute_result"
    }
   ],
   "source": [
    "np.average(b), b_array.sum(), b_array.prod()"
   ]
  },
  {
   "cell_type": "code",
   "execution_count": 93,
   "id": "ace1adc6",
   "metadata": {},
   "outputs": [
    {
     "name": "stdout",
     "output_type": "stream",
     "text": [
      "[[3, 4, 5], [6, 7, 8]]\n"
     ]
    },
    {
     "data": {
      "text/plain": [
       "numpy.ndarray"
      ]
     },
     "execution_count": 93,
     "metadata": {},
     "output_type": "execute_result"
    }
   ],
   "source": [
    "type(b)\n",
    "print(b)\n",
    "type(b_array)"
   ]
  },
  {
   "cell_type": "code",
   "execution_count": 94,
   "id": "96574d11",
   "metadata": {},
   "outputs": [
    {
     "data": {
      "text/plain": [
       "[3, 4, 5, 6, 7, 8]"
      ]
     },
     "execution_count": 94,
     "metadata": {},
     "output_type": "execute_result"
    }
   ],
   "source": [
    "new_list = []\n",
    "\n",
    "for x in list(b_array):\n",
    "    new_list.extend(x)\n",
    "\n",
    "new_list"
   ]
  },
  {
   "cell_type": "code",
   "execution_count": 100,
   "id": "14c8b852",
   "metadata": {},
   "outputs": [
    {
     "data": {
      "text/plain": [
       "array([3, 4, 5, 6, 7, 8])"
      ]
     },
     "execution_count": 100,
     "metadata": {},
     "output_type": "execute_result"
    }
   ],
   "source": [
    "new_array = np.array(new_list)\n",
    "new_array"
   ]
  },
  {
   "cell_type": "code",
   "execution_count": 102,
   "id": "0bf1f5c8",
   "metadata": {},
   "outputs": [
    {
     "data": {
      "text/plain": [
       "[9, 16, 25, 36, 49, 64]"
      ]
     },
     "execution_count": 102,
     "metadata": {},
     "output_type": "execute_result"
    }
   ],
   "source": [
    "square_list = []\n",
    "for x in new_array:\n",
    "    square_list.append(x ** 2)\n",
    "square_list"
   ]
  },
  {
   "cell_type": "code",
   "execution_count": 105,
   "id": "9874e71c",
   "metadata": {},
   "outputs": [],
   "source": [
    "# Exercise 1 - refactor the following to use numpy. \n",
    "# Use sum_of_b as the variable. \n",
    "# **Hint, you'll first need to make sure that the \"b\" variable is a numpy array**\n",
    "sum_of_b = 0\n",
    "for row in b:\n",
    "    sum_of_b += sum(row)\n"
   ]
  },
  {
   "cell_type": "code",
   "execution_count": 107,
   "id": "d345922e",
   "metadata": {},
   "outputs": [
    {
     "data": {
      "text/plain": [
       "[[3, 4, 5], [6, 7, 8]]"
      ]
     },
     "execution_count": 107,
     "metadata": {},
     "output_type": "execute_result"
    }
   ],
   "source": [
    "b"
   ]
  },
  {
   "cell_type": "code",
   "execution_count": 109,
   "id": "b6d24cfb",
   "metadata": {},
   "outputs": [
    {
     "data": {
      "text/plain": [
       "array([[3, 4, 5],\n",
       "       [6, 7, 8]])"
      ]
     },
     "execution_count": 109,
     "metadata": {},
     "output_type": "execute_result"
    }
   ],
   "source": [
    "b_array = np.array(b)\n",
    "b_array"
   ]
  },
  {
   "cell_type": "code",
   "execution_count": 113,
   "id": "debe0c89",
   "metadata": {},
   "outputs": [
    {
     "name": "stdout",
     "output_type": "stream",
     "text": [
      "33\n"
     ]
    }
   ],
   "source": [
    "sum_of_b = 0\n",
    "for row in b_array:\n",
    "    sum_of_b += sum(row)\n",
    "    \n",
    "print(sum_of_b)"
   ]
  },
  {
   "cell_type": "code",
   "execution_count": 130,
   "id": "44644e21",
   "metadata": {},
   "outputs": [
    {
     "data": {
      "text/plain": [
       "33"
      ]
     },
     "execution_count": 130,
     "metadata": {},
     "output_type": "execute_result"
    }
   ],
   "source": [
    "b_array.sum()"
   ]
  },
  {
   "cell_type": "code",
   "execution_count": 120,
   "id": "e63d7dd7",
   "metadata": {},
   "outputs": [
    {
     "data": {
      "text/plain": [
       "array([[3, 4, 5],\n",
       "       [6, 7, 8]])"
      ]
     },
     "execution_count": 120,
     "metadata": {},
     "output_type": "execute_result"
    }
   ],
   "source": [
    " b_array"
   ]
  },
  {
   "cell_type": "code",
   "execution_count": 124,
   "id": "8bda2f0b",
   "metadata": {},
   "outputs": [
    {
     "data": {
      "text/plain": [
       "[[3, 4, 5], [6, 7, 8]]"
      ]
     },
     "execution_count": 124,
     "metadata": {},
     "output_type": "execute_result"
    }
   ],
   "source": [
    "b"
   ]
  },
  {
   "cell_type": "code",
   "execution_count": 127,
   "id": "a4efa6c6",
   "metadata": {},
   "outputs": [
    {
     "data": {
      "text/plain": [
       "3"
      ]
     },
     "execution_count": 127,
     "metadata": {},
     "output_type": "execute_result"
    }
   ],
   "source": [
    "# Exercise 2 - refactor the following to use numpy.\n",
    "# min_of_b = min(b[0]) if min(b[0]) <= min(b[1]) else min(b[1])\n",
    "\n",
    "b_array.min()"
   ]
  },
  {
   "cell_type": "code",
   "execution_count": 128,
   "id": "668168a3",
   "metadata": {},
   "outputs": [
    {
     "data": {
      "text/plain": [
       "8"
      ]
     },
     "execution_count": 128,
     "metadata": {},
     "output_type": "execute_result"
    }
   ],
   "source": [
    "# Exercise 3 - refactor the following maximum calculation to find the answer with numpy.\n",
    "# max_of_b = max(b[0]) if max(b[0]) >= max(b[1]) else max(b[1])\n",
    "b_array.max()"
   ]
  },
  {
   "cell_type": "code",
   "execution_count": 129,
   "id": "a5d39e5e",
   "metadata": {},
   "outputs": [
    {
     "data": {
      "text/plain": [
       "5.5"
      ]
     },
     "execution_count": 129,
     "metadata": {},
     "output_type": "execute_result"
    }
   ],
   "source": [
    "# Exercise 4 - refactor the following using numpy to find the mean of b\n",
    "# mean_of_b = (sum(b[0]) + sum(b[1])) / (len(b[0]) + len(b[1]))\n",
    "b_array.mean()"
   ]
  },
  {
   "cell_type": "code",
   "execution_count": null,
   "id": "24bf149f",
   "metadata": {},
   "outputs": [],
   "source": [
    "# Exercise 5 - refactor the following to use numpy for calculating the \n",
    "# product of all numbers multiplied together.\n",
    "product_of_b = 1\n",
    "for row in b:\n",
    "    for number in row:\n",
    "        product_of_b *= number\n"
   ]
  },
  {
   "cell_type": "code",
   "execution_count": 131,
   "id": "2d8d46ca",
   "metadata": {},
   "outputs": [
    {
     "data": {
      "text/plain": [
       "20160"
      ]
     },
     "execution_count": 131,
     "metadata": {},
     "output_type": "execute_result"
    }
   ],
   "source": [
    "b_array.prod()"
   ]
  },
  {
   "cell_type": "code",
   "execution_count": 133,
   "id": "b1486efd",
   "metadata": {},
   "outputs": [],
   "source": [
    "# Exercise 6 - refactor the following to use numpy to find the list of squares \n",
    "squares_of_b = []\n",
    "for row in b_array:\n",
    "    for number in row:\n",
    "        squares_of_b.append(number**2)"
   ]
  },
  {
   "cell_type": "code",
   "execution_count": 134,
   "id": "74caa6c8",
   "metadata": {},
   "outputs": [
    {
     "data": {
      "text/plain": [
       "[[3, 4, 5], [6, 7, 8]]"
      ]
     },
     "execution_count": 134,
     "metadata": {},
     "output_type": "execute_result"
    }
   ],
   "source": [
    "b"
   ]
  },
  {
   "cell_type": "code",
   "execution_count": 135,
   "id": "cd21c648",
   "metadata": {},
   "outputs": [
    {
     "data": {
      "text/plain": [
       "array([[3, 4, 5],\n",
       "       [6, 7, 8]])"
      ]
     },
     "execution_count": 135,
     "metadata": {},
     "output_type": "execute_result"
    }
   ],
   "source": [
    "b_array"
   ]
  },
  {
   "cell_type": "code",
   "execution_count": 136,
   "id": "d80a2a49",
   "metadata": {},
   "outputs": [
    {
     "data": {
      "text/plain": [
       "[array([3, 4, 5]), array([6, 7, 8])]"
      ]
     },
     "execution_count": 136,
     "metadata": {},
     "output_type": "execute_result"
    }
   ],
   "source": [
    "list(b_array)"
   ]
  },
  {
   "cell_type": "code",
   "execution_count": 137,
   "id": "20eeb4f7",
   "metadata": {},
   "outputs": [
    {
     "data": {
      "text/plain": [
       "array([[ 9, 16, 25],\n",
       "       [36, 49, 64]])"
      ]
     },
     "execution_count": 137,
     "metadata": {},
     "output_type": "execute_result"
    }
   ],
   "source": [
    "np.square(b)"
   ]
  },
  {
   "cell_type": "code",
   "execution_count": null,
   "id": "c44e2901",
   "metadata": {},
   "outputs": [],
   "source": [
    "# Exercise 7 - refactor using numpy to determine the odds_in_b\n",
    "odds_in_b = []\n",
    "for row in b:\n",
    "    for number in row:\n",
    "        if(number % 2 != 0):\n",
    "            odds_in_b.append(number)"
   ]
  },
  {
   "cell_type": "code",
   "execution_count": 140,
   "id": "31558aed",
   "metadata": {},
   "outputs": [
    {
     "data": {
      "text/plain": [
       "array([[ True, False,  True],\n",
       "       [False,  True, False]])"
      ]
     },
     "execution_count": 140,
     "metadata": {},
     "output_type": "execute_result"
    }
   ],
   "source": [
    "mask = (b_array % 2 != 0)\n",
    "mask"
   ]
  },
  {
   "cell_type": "code",
   "execution_count": 142,
   "id": "5c4ff80a",
   "metadata": {},
   "outputs": [
    {
     "data": {
      "text/plain": [
       "array([3, 5, 7])"
      ]
     },
     "execution_count": 142,
     "metadata": {},
     "output_type": "execute_result"
    }
   ],
   "source": [
    "odds_in_b = b_array[mask]\n",
    "odds_in_b"
   ]
  },
  {
   "cell_type": "code",
   "execution_count": null,
   "id": "751be8c9",
   "metadata": {},
   "outputs": [],
   "source": [
    "# Exercise 8 - refactor the following to use numpy to filter only the even numbers\n",
    "evens_in_b = []\n",
    "for row in b:\n",
    "    for number in row:\n",
    "        if(number % 2 == 0):\n",
    "            evens_in_b.append(number)"
   ]
  },
  {
   "cell_type": "code",
   "execution_count": 143,
   "id": "add61fdf",
   "metadata": {},
   "outputs": [
    {
     "data": {
      "text/plain": [
       "array([[False,  True, False],\n",
       "       [ True, False,  True]])"
      ]
     },
     "execution_count": 143,
     "metadata": {},
     "output_type": "execute_result"
    }
   ],
   "source": [
    "mask = (b_array % 2 == 0)\n",
    "mask"
   ]
  },
  {
   "cell_type": "code",
   "execution_count": 144,
   "id": "a5c1da81",
   "metadata": {},
   "outputs": [
    {
     "data": {
      "text/plain": [
       "array([4, 6, 8])"
      ]
     },
     "execution_count": 144,
     "metadata": {},
     "output_type": "execute_result"
    }
   ],
   "source": [
    "b_array[mask]"
   ]
  },
  {
   "cell_type": "code",
   "execution_count": 145,
   "id": "f797732a",
   "metadata": {},
   "outputs": [
    {
     "data": {
      "text/plain": [
       "(2, 3)"
      ]
     },
     "execution_count": 145,
     "metadata": {},
     "output_type": "execute_result"
    }
   ],
   "source": [
    "# Exercise 9 - print out the shape of the array b.\n",
    "b_array.shape"
   ]
  },
  {
   "cell_type": "code",
   "execution_count": 146,
   "id": "3ffd25bc",
   "metadata": {},
   "outputs": [
    {
     "data": {
      "text/plain": [
       "array([[3, 6],\n",
       "       [4, 7],\n",
       "       [5, 8]])"
      ]
     },
     "execution_count": 146,
     "metadata": {},
     "output_type": "execute_result"
    }
   ],
   "source": [
    "# Exercise 10 - transpose the array b.\n",
    "b_array.transpose()"
   ]
  },
  {
   "cell_type": "code",
   "execution_count": 152,
   "id": "1704c400",
   "metadata": {},
   "outputs": [
    {
     "data": {
      "text/plain": [
       "[3, 4, 5, 6, 7, 8]"
      ]
     },
     "execution_count": 152,
     "metadata": {},
     "output_type": "execute_result"
    }
   ],
   "source": [
    "# Exercise 11 - reshape the array b to be a single list of 6 numbers. (1 x 6)\n",
    "single_list = []\n",
    "for x in b_array:\n",
    "    single_list.extend(x)\n",
    "    \n",
    "single_list"
   ]
  },
  {
   "cell_type": "code",
   "execution_count": 153,
   "id": "cd0b1bf7",
   "metadata": {},
   "outputs": [
    {
     "data": {
      "text/plain": [
       "(2, 3)"
      ]
     },
     "execution_count": 153,
     "metadata": {},
     "output_type": "execute_result"
    }
   ],
   "source": [
    "# Exercise 12 - reshape the array b to be a list of 6 lists, \n",
    "# each containing only 1 number (6 x 1)\n",
    "\n",
    "b_array.shape"
   ]
  },
  {
   "cell_type": "code",
   "execution_count": 154,
   "id": "3372105d",
   "metadata": {},
   "outputs": [
    {
     "data": {
      "text/plain": [
       "array([[3],\n",
       "       [4],\n",
       "       [5],\n",
       "       [6],\n",
       "       [7],\n",
       "       [8]])"
      ]
     },
     "execution_count": 154,
     "metadata": {},
     "output_type": "execute_result"
    }
   ],
   "source": [
    "b_array.reshape(6, 1)"
   ]
  },
  {
   "cell_type": "code",
   "execution_count": 271,
   "id": "8067abb0",
   "metadata": {},
   "outputs": [],
   "source": [
    "## Setup 3\n",
    "c = [\n",
    "    [1, 2, 3],\n",
    "    [4, 5, 6],\n",
    "    [7, 8, 9]\n",
    "]\n",
    "\n",
    "# HINT, you'll first need to make sure that the \"c\" variable \n",
    "# is a numpy array prior to using numpy array methods."
   ]
  },
  {
   "cell_type": "code",
   "execution_count": 159,
   "id": "589f9bb2",
   "metadata": {},
   "outputs": [
    {
     "data": {
      "text/plain": [
       "array([[1, 2, 3],\n",
       "       [4, 5, 6],\n",
       "       [7, 8, 9]])"
      ]
     },
     "execution_count": 159,
     "metadata": {},
     "output_type": "execute_result"
    }
   ],
   "source": [
    "# Exercise 1 - Find the min, max, sum, and product of c.\n",
    "c\n",
    "c_array = np.array(c)\n",
    "c_array"
   ]
  },
  {
   "cell_type": "code",
   "execution_count": 164,
   "id": "77e9700a",
   "metadata": {},
   "outputs": [
    {
     "data": {
      "text/plain": [
       "(1, 9, 45, 362880)"
      ]
     },
     "execution_count": 164,
     "metadata": {},
     "output_type": "execute_result"
    }
   ],
   "source": [
    "c_array.min(), c_array.max(), c_array.sum(), c_array.prod()"
   ]
  },
  {
   "cell_type": "code",
   "execution_count": 165,
   "id": "5eff0cf7",
   "metadata": {},
   "outputs": [
    {
     "data": {
      "text/plain": [
       "2.581988897471611"
      ]
     },
     "execution_count": 165,
     "metadata": {},
     "output_type": "execute_result"
    }
   ],
   "source": [
    "# Exercise 2 - Determine the standard deviation of c.\n",
    "\n",
    "c_array.std()"
   ]
  },
  {
   "cell_type": "code",
   "execution_count": 166,
   "id": "5ddfcc16",
   "metadata": {},
   "outputs": [
    {
     "data": {
      "text/plain": [
       "6.666666666666667"
      ]
     },
     "execution_count": 166,
     "metadata": {},
     "output_type": "execute_result"
    }
   ],
   "source": [
    "# Exercise 3 - Determine the variance of c.\n",
    "\n",
    "c_array.var()"
   ]
  },
  {
   "cell_type": "code",
   "execution_count": 168,
   "id": "cce39267",
   "metadata": {},
   "outputs": [
    {
     "data": {
      "text/plain": [
       "(3, 3)"
      ]
     },
     "execution_count": 168,
     "metadata": {},
     "output_type": "execute_result"
    }
   ],
   "source": [
    "# Exercise 4 - Print out the shape of the array c\n",
    "\n",
    "c_array.shape"
   ]
  },
  {
   "cell_type": "code",
   "execution_count": 178,
   "id": "7a9729c8",
   "metadata": {},
   "outputs": [
    {
     "name": "stdout",
     "output_type": "stream",
     "text": [
      "[[1 4 7]\n",
      " [2 5 8]\n",
      " [3 6 9]]\n"
     ]
    }
   ],
   "source": [
    "# Exercise 5 - Transpose c and print out transposed result.\n",
    "\n",
    "print(c_array.transpose())"
   ]
  },
  {
   "cell_type": "code",
   "execution_count": 180,
   "id": "fa9e7230",
   "metadata": {},
   "outputs": [
    {
     "data": {
      "text/plain": [
       "array([[ 30,  36,  42],\n",
       "       [ 66,  81,  96],\n",
       "       [102, 126, 150]])"
      ]
     },
     "execution_count": 180,
     "metadata": {},
     "output_type": "execute_result"
    }
   ],
   "source": [
    "# Exercise 6 - Get the dot product of the array c with c. \n",
    "\n",
    "np.dot(c_array, c_array)"
   ]
  },
  {
   "cell_type": "code",
   "execution_count": 211,
   "id": "ae90c143",
   "metadata": {},
   "outputs": [
    {
     "name": "stdout",
     "output_type": "stream",
     "text": [
      "1st Input array :  [[1 2 3]\n",
      " [4 5 6]\n",
      " [7 8 9]]\n",
      "2nd Input array :  [[1 2 3]\n",
      " [4 5 6]\n",
      " [7 8 9]]\n",
      "Resultant output array:  [[ 1  4  9]\n",
      " [16 25 36]\n",
      " [49 64 81]]\n"
     ]
    },
    {
     "data": {
      "text/plain": [
       "array([[ 1,  4,  9],\n",
       "       [16, 25, 36],\n",
       "       [49, 64, 81]])"
      ]
     },
     "execution_count": 211,
     "metadata": {},
     "output_type": "execute_result"
    }
   ],
   "source": [
    "# Exercise 7 - Write the code necessary to sum up the \n",
    "# result of c times c transposed. Answer should be 261.\n",
    "\n",
    "in_arr1 = c_array\n",
    "in_arr2 = c_array\n",
    "   \n",
    "print (\"1st Input array : \", in_arr1)\n",
    "print (\"2nd Input array : \", in_arr2)\n",
    "\n",
    "out_arr = np.multiply(in_arr1, in_arr2) \n",
    "print (\"Resultant output array: \", out_arr)\n",
    "\n",
    "out_arr"
   ]
  },
  {
   "cell_type": "code",
   "execution_count": 272,
   "id": "24b67c4e",
   "metadata": {},
   "outputs": [
    {
     "ename": "AttributeError",
     "evalue": "'list' object has no attribute 'T'",
     "output_type": "error",
     "traceback": [
      "\u001b[0;31m---------------------------------------------------------------------------\u001b[0m",
      "\u001b[0;31mAttributeError\u001b[0m                            Traceback (most recent call last)",
      "Input \u001b[0;32mIn [272]\u001b[0m, in \u001b[0;36m<cell line: 2>\u001b[0;34m()\u001b[0m\n\u001b[1;32m      1\u001b[0m \u001b[38;5;66;03m## review \u001b[39;00m\n\u001b[0;32m----> 2\u001b[0m (\u001b[43mc\u001b[49m\u001b[38;5;241;43m.\u001b[39;49m\u001b[43mT\u001b[49m \u001b[38;5;241m*\u001b[39mc)\u001b[38;5;241m.\u001b[39msum()\n",
      "\u001b[0;31mAttributeError\u001b[0m: 'list' object has no attribute 'T'"
     ]
    }
   ],
   "source": [
    "## review \n",
    "(c.T *c).sum()"
   ]
  },
  {
   "cell_type": "code",
   "execution_count": 273,
   "id": "b1cc1065",
   "metadata": {},
   "outputs": [
    {
     "data": {
      "text/plain": [
       "list"
      ]
     },
     "execution_count": 273,
     "metadata": {},
     "output_type": "execute_result"
    }
   ],
   "source": [
    "type(c)"
   ]
  },
  {
   "cell_type": "code",
   "execution_count": 207,
   "id": "20e30364",
   "metadata": {},
   "outputs": [
    {
     "data": {
      "text/plain": [
       "285"
      ]
     },
     "execution_count": 207,
     "metadata": {},
     "output_type": "execute_result"
    }
   ],
   "source": [
    "array = out_arr.transpose()\n",
    "array.sum()"
   ]
  },
  {
   "cell_type": "code",
   "execution_count": 209,
   "id": "32d82e16",
   "metadata": {},
   "outputs": [
    {
     "name": "stdout",
     "output_type": "stream",
     "text": [
      "1st Input array :  [[1 2 3]\n",
      " [4 5 6]\n",
      " [7 8 9]]\n",
      "2nd Input array :  [[1 2 3]\n",
      " [4 5 6]\n",
      " [7 8 9]]\n",
      "Resultant output array:  [[ 1  4  9]\n",
      " [16 25 36]\n",
      " [49 64 81]]\n"
     ]
    }
   ],
   "source": [
    "# Exercise 8 - Write the code necessary to determine the \n",
    "# product of c times c transposed. Answer should be 131681894400.\n",
    "\n",
    "in_arr1 = c_array\n",
    "in_arr2 = c_array\n",
    "   \n",
    "print (\"1st Input array : \", in_arr1)\n",
    "print (\"2nd Input array : \", in_arr2)\n",
    "\n",
    "out_arr = np.multiply(in_arr1, in_arr2) \n",
    "print (\"Resultant output array: \", out_arr)"
   ]
  },
  {
   "cell_type": "code",
   "execution_count": 213,
   "id": "15cdaf46",
   "metadata": {},
   "outputs": [
    {
     "data": {
      "text/plain": [
       "131681894400"
      ]
     },
     "execution_count": 213,
     "metadata": {},
     "output_type": "execute_result"
    }
   ],
   "source": [
    "array = out_arr.transpose()\n",
    "array.prod()"
   ]
  },
  {
   "cell_type": "code",
   "execution_count": 214,
   "id": "8043fccd",
   "metadata": {},
   "outputs": [],
   "source": [
    "## Setup 4\n",
    "d = [\n",
    "    [90, 30, 45, 0, 120, 180],\n",
    "    [45, -90, -30, 270, 90, 0],\n",
    "    [60, 45, -45, 90, -45, 180]\n",
    "]"
   ]
  },
  {
   "cell_type": "code",
   "execution_count": 217,
   "id": "8787dc94",
   "metadata": {},
   "outputs": [
    {
     "data": {
      "text/plain": [
       "array([[ 90,  30,  45,   0, 120, 180],\n",
       "       [ 45, -90, -30, 270,  90,   0],\n",
       "       [ 60,  45, -45,  90, -45, 180]])"
      ]
     },
     "execution_count": 217,
     "metadata": {},
     "output_type": "execute_result"
    }
   ],
   "source": [
    "# Exercise 1 - Find the sine of all the numbers in d\n",
    "\n",
    "d_array = np.array(d)\n",
    "d_array"
   ]
  },
  {
   "cell_type": "code",
   "execution_count": 220,
   "id": "4505d50a",
   "metadata": {},
   "outputs": [
    {
     "data": {
      "text/plain": [
       "array([[ 0.89399666, -0.98803162,  0.85090352,  0.        ,  0.58061118,\n",
       "        -0.80115264],\n",
       "       [ 0.85090352, -0.89399666,  0.98803162, -0.17604595,  0.89399666,\n",
       "         0.        ],\n",
       "       [-0.30481062,  0.85090352, -0.85090352,  0.89399666, -0.85090352,\n",
       "        -0.80115264]])"
      ]
     },
     "execution_count": 220,
     "metadata": {},
     "output_type": "execute_result"
    }
   ],
   "source": [
    "np.sin(d_array)"
   ]
  },
  {
   "cell_type": "code",
   "execution_count": 223,
   "id": "7df3fc07",
   "metadata": {},
   "outputs": [
    {
     "data": {
      "text/plain": [
       "array([[-0.44807362,  0.15425145,  0.52532199,  1.        ,  0.81418097,\n",
       "        -0.59846007],\n",
       "       [ 0.52532199, -0.44807362,  0.15425145,  0.98438195, -0.44807362,\n",
       "         1.        ],\n",
       "       [-0.95241298,  0.52532199,  0.52532199, -0.44807362,  0.52532199,\n",
       "        -0.59846007]])"
      ]
     },
     "execution_count": 223,
     "metadata": {},
     "output_type": "execute_result"
    }
   ],
   "source": [
    "# Exercise 2 - Find the cosine of all the numbers in d\n",
    "\n",
    "np.cos(d_array)"
   ]
  },
  {
   "cell_type": "code",
   "execution_count": 224,
   "id": "9d385946",
   "metadata": {},
   "outputs": [
    {
     "data": {
      "text/plain": [
       "array([[-1.99520041, -6.4053312 ,  1.61977519,  0.        ,  0.71312301,\n",
       "         1.33869021],\n",
       "       [ 1.61977519,  1.99520041,  6.4053312 , -0.17883906, -1.99520041,\n",
       "         0.        ],\n",
       "       [ 0.32004039,  1.61977519, -1.61977519, -1.99520041, -1.61977519,\n",
       "         1.33869021]])"
      ]
     },
     "execution_count": 224,
     "metadata": {},
     "output_type": "execute_result"
    }
   ],
   "source": [
    "# Exercise 3 - Find the tangent of all the numbers in d\n",
    "\n",
    "np.tan(d_array)"
   ]
  },
  {
   "cell_type": "code",
   "execution_count": 227,
   "id": "0101a0ad",
   "metadata": {},
   "outputs": [
    {
     "data": {
      "text/plain": [
       "array([[False, False, False, False, False, False],\n",
       "       [False,  True,  True, False, False, False],\n",
       "       [False, False,  True, False,  True, False]])"
      ]
     },
     "execution_count": 227,
     "metadata": {},
     "output_type": "execute_result"
    }
   ],
   "source": [
    "# Exercise 4 - Find all the negative numbers in d\n",
    "\n",
    "mask = (d_array < 0)\n",
    "mask"
   ]
  },
  {
   "cell_type": "code",
   "execution_count": 228,
   "id": "94c00a4a",
   "metadata": {},
   "outputs": [
    {
     "data": {
      "text/plain": [
       "array([-90, -30, -45, -45])"
      ]
     },
     "execution_count": 228,
     "metadata": {},
     "output_type": "execute_result"
    }
   ],
   "source": [
    "d_array[mask]"
   ]
  },
  {
   "cell_type": "code",
   "execution_count": 229,
   "id": "2aa346bf",
   "metadata": {},
   "outputs": [
    {
     "data": {
      "text/plain": [
       "array([[ True,  True,  True, False,  True,  True],\n",
       "       [ True, False, False,  True,  True, False],\n",
       "       [ True,  True, False,  True, False,  True]])"
      ]
     },
     "execution_count": 229,
     "metadata": {},
     "output_type": "execute_result"
    }
   ],
   "source": [
    "# Exercise 5 - Find all the positive numbers in d\n",
    "\n",
    "mask = (d_array > 0)\n",
    "mask"
   ]
  },
  {
   "cell_type": "code",
   "execution_count": 230,
   "id": "27e06b91",
   "metadata": {},
   "outputs": [
    {
     "data": {
      "text/plain": [
       "array([ 90,  30,  45, 120, 180,  45, 270,  90,  60,  45,  90, 180])"
      ]
     },
     "execution_count": 230,
     "metadata": {},
     "output_type": "execute_result"
    }
   ],
   "source": [
    "d_array[mask]"
   ]
  },
  {
   "cell_type": "code",
   "execution_count": 232,
   "id": "d8be971c",
   "metadata": {},
   "outputs": [
    {
     "data": {
      "text/plain": [
       "array([-90, -45, -30,   0,  30,  45,  60,  90, 120, 180, 270])"
      ]
     },
     "execution_count": 232,
     "metadata": {},
     "output_type": "execute_result"
    }
   ],
   "source": [
    "# Exercise 6 - Return an array of only the unique numbers in d\n",
    "\n",
    "np.unique(d_array)"
   ]
  },
  {
   "cell_type": "code",
   "execution_count": 235,
   "id": "0a79a3ad",
   "metadata": {},
   "outputs": [
    {
     "data": {
      "text/plain": [
       "11"
      ]
     },
     "execution_count": 235,
     "metadata": {},
     "output_type": "execute_result"
    }
   ],
   "source": [
    "# Exercise 7 - Determine how many unique numbers there are in d.\n",
    "\n",
    "len(np.unique(d_array))"
   ]
  },
  {
   "cell_type": "code",
   "execution_count": 236,
   "id": "9ce1277d",
   "metadata": {},
   "outputs": [
    {
     "data": {
      "text/plain": [
       "(3, 6)"
      ]
     },
     "execution_count": 236,
     "metadata": {},
     "output_type": "execute_result"
    }
   ],
   "source": [
    "# Exercise 8 - Print out the shape of d.\n",
    "\n",
    "d_array.shape"
   ]
  },
  {
   "cell_type": "code",
   "execution_count": 239,
   "id": "7682306c",
   "metadata": {},
   "outputs": [
    {
     "data": {
      "text/plain": [
       "(6, 3)"
      ]
     },
     "execution_count": 239,
     "metadata": {},
     "output_type": "execute_result"
    }
   ],
   "source": [
    "# Exercise 9 - Transpose and then print out the shape of d.\n",
    "\n",
    "d_array.transpose().shape"
   ]
  },
  {
   "cell_type": "code",
   "execution_count": 240,
   "id": "3a8317f8",
   "metadata": {},
   "outputs": [
    {
     "data": {
      "text/plain": [
       "array([[ 90,  30],\n",
       "       [ 45,   0],\n",
       "       [120, 180],\n",
       "       [ 45, -90],\n",
       "       [-30, 270],\n",
       "       [ 90,   0],\n",
       "       [ 60,  45],\n",
       "       [-45,  90],\n",
       "       [-45, 180]])"
      ]
     },
     "execution_count": 240,
     "metadata": {},
     "output_type": "execute_result"
    }
   ],
   "source": [
    "# Exercise 10 - Reshape d into an array of 9 x 2\n",
    "\n",
    "d_array.reshape(9, 2)"
   ]
  },
  {
   "cell_type": "code",
   "execution_count": null,
   "id": "fdcc14d3",
   "metadata": {},
   "outputs": [],
   "source": []
  },
  {
   "cell_type": "code",
   "execution_count": null,
   "id": "47a034ae",
   "metadata": {},
   "outputs": [],
   "source": []
  }
 ],
 "metadata": {
  "kernelspec": {
   "display_name": "Python 3 (ipykernel)",
   "language": "python",
   "name": "python3"
  },
  "language_info": {
   "codemirror_mode": {
    "name": "ipython",
    "version": 3
   },
   "file_extension": ".py",
   "mimetype": "text/x-python",
   "name": "python",
   "nbconvert_exporter": "python",
   "pygments_lexer": "ipython3",
   "version": "3.9.13"
  }
 },
 "nbformat": 4,
 "nbformat_minor": 5
}
